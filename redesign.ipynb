{
 "cells": [
  {
   "cell_type": "markdown",
   "metadata": {},
   "source": [
    "## Measuring the Impact of a Website Redesign the Bayesian Way\n",
    "\n",
    "### Background\n",
    "\n",
    "You work for an early-stage startup in Germany. Your team has been working on a redesign of the landing page. The team believes a new design will increase the number of people who click through and join your site. \n",
    "\n",
    "They have been testing the changes for a few weeks, and now they want to measure the impact of the change and need you to determine if the increase can be due to random chance or if it is statistically significant.\n"
   ]
  },
  {
   "cell_type": "markdown",
   "metadata": {},
   "source": [
    "### The Data\n",
    "\n",
    "#### Redesign test Data\n",
    "\n",
    "* \"treatment\" - \"yes\" if the user saw the new version of the landing page, no otherwise.\n",
    "* \"new_images\" - \"yes\" if the page used a new set of images, no otherwise.\n",
    "* \"converted\" - 1 if the user joined the site, 0 otherwise.\n",
    "\n",
    "The control group is those users with \"no\" in both columns: the old version with the old set of images."
   ]
  },
  {
   "cell_type": "code",
   "execution_count": 30,
   "metadata": {},
   "outputs": [],
   "source": [
    "!pip -qqq --no-color install pymc3 \"numpy>=1.15.0, <1.22.0\""
   ]
  },
  {
   "cell_type": "markdown",
   "metadata": {},
   "source": [
    "#### Installing Dependecies"
   ]
  },
  {
   "cell_type": "code",
   "execution_count": 31,
   "metadata": {},
   "outputs": [],
   "source": [
    "import pandas as pd\n",
    "import numpy as np\n",
    "import pymc3 as pm\n",
    "import scipy.stats as stats"
   ]
  },
  {
   "cell_type": "code",
   "execution_count": 32,
   "metadata": {},
   "outputs": [],
   "source": [
    "import seaborn as sns\n",
    "import matplotlib.pyplot as plt\n",
    "\n",
    "plt.style.use('bmh')\n",
    "\n",
    "#https://viscid-hub.github.io/Viscid-docs/docs/dev/styles/bmh.html\n",
    "\n",
    "BMH_COLORS=[\"#348ABD', '#A60628', '#7A68A6', '#467821\"]"
   ]
  },
  {
   "cell_type": "code",
   "execution_count": 33,
   "metadata": {},
   "outputs": [],
   "source": [
    "np.random.seed(44) # for reproducibility"
   ]
  },
  {
   "cell_type": "code",
   "execution_count": 34,
   "metadata": {},
   "outputs": [
    {
     "name": "stdout",
     "output_type": "stream",
     "text": [
      "Numpy version is: 1.20.3\n",
      "Numpy version is: 3.11.4\n"
     ]
    }
   ],
   "source": [
    "print(f\"Numpy version is: {np.__version__}\")\n",
    "print(f\"Numpy version is: {pm.__version__}\")"
   ]
  },
  {
   "cell_type": "code",
   "execution_count": 35,
   "metadata": {},
   "outputs": [
    {
     "data": {
      "text/html": [
       "<div>\n",
       "<style scoped>\n",
       "    .dataframe tbody tr th:only-of-type {\n",
       "        vertical-align: middle;\n",
       "    }\n",
       "\n",
       "    .dataframe tbody tr th {\n",
       "        vertical-align: top;\n",
       "    }\n",
       "\n",
       "    .dataframe thead th {\n",
       "        text-align: right;\n",
       "    }\n",
       "</style>\n",
       "<table border=\"1\" class=\"dataframe\">\n",
       "  <thead>\n",
       "    <tr style=\"text-align: right;\">\n",
       "      <th></th>\n",
       "      <th>treatment</th>\n",
       "      <th>new_images</th>\n",
       "      <th>converted</th>\n",
       "    </tr>\n",
       "  </thead>\n",
       "  <tbody>\n",
       "    <tr>\n",
       "      <th>0</th>\n",
       "      <td>yes</td>\n",
       "      <td>yes</td>\n",
       "      <td>0</td>\n",
       "    </tr>\n",
       "    <tr>\n",
       "      <th>1</th>\n",
       "      <td>yes</td>\n",
       "      <td>yes</td>\n",
       "      <td>0</td>\n",
       "    </tr>\n",
       "    <tr>\n",
       "      <th>2</th>\n",
       "      <td>yes</td>\n",
       "      <td>yes</td>\n",
       "      <td>0</td>\n",
       "    </tr>\n",
       "    <tr>\n",
       "      <th>3</th>\n",
       "      <td>yes</td>\n",
       "      <td>no</td>\n",
       "      <td>0</td>\n",
       "    </tr>\n",
       "    <tr>\n",
       "      <th>4</th>\n",
       "      <td>no</td>\n",
       "      <td>yes</td>\n",
       "      <td>0</td>\n",
       "    </tr>\n",
       "  </tbody>\n",
       "</table>\n",
       "</div>"
      ],
      "text/plain": [
       "  treatment new_images  converted\n",
       "0       yes        yes          0\n",
       "1       yes        yes          0\n",
       "2       yes        yes          0\n",
       "3       yes         no          0\n",
       "4        no        yes          0"
      ]
     },
     "execution_count": 35,
     "metadata": {},
     "output_type": "execute_result"
    }
   ],
   "source": [
    "df=pd.read_csv(\"redesign.csv\")\n",
    "df.head()"
   ]
  },
  {
   "cell_type": "markdown",
   "metadata": {},
   "source": [
    "First check for any missing values"
   ]
  },
  {
   "cell_type": "code",
   "execution_count": 36,
   "metadata": {},
   "outputs": [
    {
     "data": {
      "text/plain": [
       "treatment     False\n",
       "new_images    False\n",
       "converted     False\n",
       "dtype: bool"
      ]
     },
     "execution_count": 36,
     "metadata": {},
     "output_type": "execute_result"
    }
   ],
   "source": [
    "df.isnull().any()"
   ]
  },
  {
   "cell_type": "markdown",
   "metadata": {},
   "source": [
    "For convienence, lets convert \"yes\" to a 1 and \"no\" to a 0 for easy computation of statistics."
   ]
  },
  {
   "cell_type": "code",
   "execution_count": 37,
   "metadata": {},
   "outputs": [],
   "source": [
    "df.treatment=df.treatment.map({\"yes\":1,\"no\":0})\n",
    "df.new_images=df.new_images.map({\"yes\":1,\"no\":0})"
   ]
  },
  {
   "cell_type": "code",
   "execution_count": 38,
   "metadata": {},
   "outputs": [
    {
     "data": {
      "text/html": [
       "<div>\n",
       "<style scoped>\n",
       "    .dataframe tbody tr th:only-of-type {\n",
       "        vertical-align: middle;\n",
       "    }\n",
       "\n",
       "    .dataframe tbody tr th {\n",
       "        vertical-align: top;\n",
       "    }\n",
       "\n",
       "    .dataframe thead th {\n",
       "        text-align: right;\n",
       "    }\n",
       "</style>\n",
       "<table border=\"1\" class=\"dataframe\">\n",
       "  <thead>\n",
       "    <tr style=\"text-align: right;\">\n",
       "      <th></th>\n",
       "      <th>treatment</th>\n",
       "      <th>new_images</th>\n",
       "      <th>converted</th>\n",
       "    </tr>\n",
       "  </thead>\n",
       "  <tbody>\n",
       "    <tr>\n",
       "      <th>count</th>\n",
       "      <td>40484.000000</td>\n",
       "      <td>40484.000000</td>\n",
       "      <td>40484.000000</td>\n",
       "    </tr>\n",
       "    <tr>\n",
       "      <th>mean</th>\n",
       "      <td>0.500000</td>\n",
       "      <td>0.500000</td>\n",
       "      <td>0.113353</td>\n",
       "    </tr>\n",
       "    <tr>\n",
       "      <th>std</th>\n",
       "      <td>0.500006</td>\n",
       "      <td>0.500006</td>\n",
       "      <td>0.317028</td>\n",
       "    </tr>\n",
       "    <tr>\n",
       "      <th>min</th>\n",
       "      <td>0.000000</td>\n",
       "      <td>0.000000</td>\n",
       "      <td>0.000000</td>\n",
       "    </tr>\n",
       "    <tr>\n",
       "      <th>25%</th>\n",
       "      <td>0.000000</td>\n",
       "      <td>0.000000</td>\n",
       "      <td>0.000000</td>\n",
       "    </tr>\n",
       "    <tr>\n",
       "      <th>50%</th>\n",
       "      <td>0.500000</td>\n",
       "      <td>0.500000</td>\n",
       "      <td>0.000000</td>\n",
       "    </tr>\n",
       "    <tr>\n",
       "      <th>75%</th>\n",
       "      <td>1.000000</td>\n",
       "      <td>1.000000</td>\n",
       "      <td>0.000000</td>\n",
       "    </tr>\n",
       "    <tr>\n",
       "      <th>max</th>\n",
       "      <td>1.000000</td>\n",
       "      <td>1.000000</td>\n",
       "      <td>1.000000</td>\n",
       "    </tr>\n",
       "  </tbody>\n",
       "</table>\n",
       "</div>"
      ],
      "text/plain": [
       "          treatment    new_images     converted\n",
       "count  40484.000000  40484.000000  40484.000000\n",
       "mean       0.500000      0.500000      0.113353\n",
       "std        0.500006      0.500006      0.317028\n",
       "min        0.000000      0.000000      0.000000\n",
       "25%        0.000000      0.000000      0.000000\n",
       "50%        0.500000      0.500000      0.000000\n",
       "75%        1.000000      1.000000      0.000000\n",
       "max        1.000000      1.000000      1.000000"
      ]
     },
     "execution_count": 38,
     "metadata": {},
     "output_type": "execute_result"
    }
   ],
   "source": [
    "df.describe()"
   ]
  },
  {
   "cell_type": "markdown",
   "metadata": {},
   "source": [
    "The summary stats show that the dataset is fully balanced. 50% has treatment and 50% doesn't. For new images, it is similar. The groups culminate into four:\n",
    "\n",
    "1. group A: has treatment and has new_images.\n",
    "2. group B: has treatment, but no new_images.\n",
    "3. group C: no treatment, but has new_images.\n",
    "4. the control group: no treatment and no new_images.\n",
    "\n",
    "The conversion rate across all groups has a mean of 11.3% with a std deviation of 31.7%\n",
    "\n",
    "Now lets implement the groups"
   ]
  },
  {
   "cell_type": "code",
   "execution_count": 39,
   "metadata": {},
   "outputs": [
    {
     "name": "stdout",
     "output_type": "stream",
     "text": [
      "size of each group is: 10121\n"
     ]
    }
   ],
   "source": [
    "def grouping(row):\n",
    "    new_landing=row.treatment\n",
    "    new_images=row.new_images\n",
    "\n",
    "    if new_landing and new_images:\n",
    "        return \"A\"\n",
    "    elif new_landing and not new_images:\n",
    "        return \"B\"\n",
    "\n",
    "    elif not new_landing and new_images:\n",
    "        return \"C\"\n",
    "\n",
    "    return \"control\"\n",
    "\n",
    "\n",
    "df[\"group\"]=df.apply(grouping, axis=1) # add column to dataset \n",
    "\n",
    "\n",
    "assert (len(df[df.group==\"A\"])==\n",
    "            len(df[df.group==\"B\"])\n",
    "        == len(df[df.group=='C'])==\n",
    "        len(df[df.group==\"control\"]))\n",
    "\n",
    "print(f'size of each group is: {len(df[df.group==\"A\"])}')"
   ]
  },
  {
   "cell_type": "markdown",
   "metadata": {},
   "source": [
    "### *1. Observables: analyzing the observed conversion rates for each group*\n",
    "\n",
    "Here, we first look at a normalized countplot to get the picture of conversion rates for each group.Looking at the \"yes\"-es, we observe that all the testgroups A,B,C seem to improve over the control group. Group B has the highest \"yes\" to \"no\" ratio i.e has the highest conversion ratio."
   ]
  },
  {
   "cell_type": "code",
   "execution_count": 40,
   "metadata": {},
   "outputs": [
    {
     "data": {
      "text/plain": [
       "[[Text(0, 0, 'no'), Text(1, 0, 'yes')]]"
      ]
     },
     "execution_count": 40,
     "metadata": {},
     "output_type": "execute_result"
    },
    {
     "data": {
      "image/png": "[encoded data removed]",
      "text/plain": [
       "<Figure size 720x504 with 1 Axes>"
      ]
     },
     "metadata": {
      "needs_background": "light"
     },
     "output_type": "display_data"
    }
   ],
   "source": [
    "fig, ax=plt.subplots(figsize=(10,7))\n",
    "\n",
    "conversion_count=(df.groupby([\"group\"])['converted']\n",
    "                    .value_counts(normalize=True)\n",
    "                    .rename(\"percentage\")\n",
    "                    .reset_index())\n",
    "\n",
    "sns.barplot(data=conversion_count, x=\"converted\", y=\"percentage\", hue=\"group\", ax=ax)\n",
    "\n",
    "ax.set_xlabel(\"Converted?\")\n",
    "ax.set(xticklabels=[\"no\",\"yes\"])"
   ]
  },
  {
   "cell_type": "markdown",
   "metadata": {},
   "source": [
    "Lets determine the actual numbers."
   ]
  },
  {
   "cell_type": "code",
   "execution_count": 41,
   "metadata": {},
   "outputs": [
    {
     "data": {
      "text/html": [
       "<div>\n",
       "<style scoped>\n",
       "    .dataframe tbody tr th:only-of-type {\n",
       "        vertical-align: middle;\n",
       "    }\n",
       "\n",
       "    .dataframe tbody tr th {\n",
       "        vertical-align: top;\n",
       "    }\n",
       "\n",
       "    .dataframe thead th {\n",
       "        text-align: right;\n",
       "    }\n",
       "</style>\n",
       "<table border=\"1\" class=\"dataframe\">\n",
       "  <thead>\n",
       "    <tr style=\"text-align: right;\">\n",
       "      <th></th>\n",
       "      <th>treatment</th>\n",
       "      <th>new_images</th>\n",
       "      <th>converted</th>\n",
       "      <th>group</th>\n",
       "    </tr>\n",
       "  </thead>\n",
       "  <tbody>\n",
       "    <tr>\n",
       "      <th>0</th>\n",
       "      <td>1</td>\n",
       "      <td>1</td>\n",
       "      <td>0</td>\n",
       "      <td>A</td>\n",
       "    </tr>\n",
       "    <tr>\n",
       "      <th>1</th>\n",
       "      <td>1</td>\n",
       "      <td>1</td>\n",
       "      <td>0</td>\n",
       "      <td>A</td>\n",
       "    </tr>\n",
       "    <tr>\n",
       "      <th>2</th>\n",
       "      <td>1</td>\n",
       "      <td>1</td>\n",
       "      <td>0</td>\n",
       "      <td>A</td>\n",
       "    </tr>\n",
       "    <tr>\n",
       "      <th>3</th>\n",
       "      <td>1</td>\n",
       "      <td>0</td>\n",
       "      <td>0</td>\n",
       "      <td>B</td>\n",
       "    </tr>\n",
       "    <tr>\n",
       "      <th>4</th>\n",
       "      <td>0</td>\n",
       "      <td>1</td>\n",
       "      <td>0</td>\n",
       "      <td>C</td>\n",
       "    </tr>\n",
       "    <tr>\n",
       "      <th>...</th>\n",
       "      <td>...</td>\n",
       "      <td>...</td>\n",
       "      <td>...</td>\n",
       "      <td>...</td>\n",
       "    </tr>\n",
       "    <tr>\n",
       "      <th>40479</th>\n",
       "      <td>0</td>\n",
       "      <td>0</td>\n",
       "      <td>0</td>\n",
       "      <td>control</td>\n",
       "    </tr>\n",
       "    <tr>\n",
       "      <th>40480</th>\n",
       "      <td>1</td>\n",
       "      <td>1</td>\n",
       "      <td>0</td>\n",
       "      <td>A</td>\n",
       "    </tr>\n",
       "    <tr>\n",
       "      <th>40481</th>\n",
       "      <td>1</td>\n",
       "      <td>1</td>\n",
       "      <td>0</td>\n",
       "      <td>A</td>\n",
       "    </tr>\n",
       "    <tr>\n",
       "      <th>40482</th>\n",
       "      <td>0</td>\n",
       "      <td>0</td>\n",
       "      <td>0</td>\n",
       "      <td>control</td>\n",
       "    </tr>\n",
       "    <tr>\n",
       "      <th>40483</th>\n",
       "      <td>1</td>\n",
       "      <td>1</td>\n",
       "      <td>0</td>\n",
       "      <td>A</td>\n",
       "    </tr>\n",
       "  </tbody>\n",
       "</table>\n",
       "<p>40484 rows × 4 columns</p>\n",
       "</div>"
      ],
      "text/plain": [
       "       treatment  new_images  converted    group\n",
       "0              1           1          0        A\n",
       "1              1           1          0        A\n",
       "2              1           1          0        A\n",
       "3              1           0          0        B\n",
       "4              0           1          0        C\n",
       "...          ...         ...        ...      ...\n",
       "40479          0           0          0  control\n",
       "40480          1           1          0        A\n",
       "40481          1           1          0        A\n",
       "40482          0           0          0  control\n",
       "40483          1           1          0        A\n",
       "\n",
       "[40484 rows x 4 columns]"
      ]
     },
     "execution_count": 41,
     "metadata": {},
     "output_type": "execute_result"
    }
   ],
   "source": [
    "df"
   ]
  },
  {
   "cell_type": "code",
   "execution_count": 42,
   "metadata": {},
   "outputs": [
    {
     "data": {
      "text/plain": [
       "0.11372394032210256"
      ]
     },
     "execution_count": 42,
     "metadata": {},
     "output_type": "execute_result"
    }
   ],
   "source": [
    "df[df.group==\"A\"].converted.mean()"
   ]
  },
  {
   "cell_type": "code",
   "execution_count": 43,
   "metadata": {},
   "outputs": [
    {
     "name": "stdout",
     "output_type": "stream",
     "text": [
      "Observed conversion rate\n",
      "- - - - - - - - - - - - - - - \n",
      "Group A : 0.114\n",
      "Group B : 0.120\n",
      "Group C : 0.113\n",
      "Group control : 0.107\n"
     ]
    }
   ],
   "source": [
    "GROUP_CONV_RATE={}\n",
    "\n",
    "print(\"Observed conversion rate\")\n",
    "\n",
    "for i in range(15):\n",
    "    print(\"-\", end=\" \")\n",
    "\n",
    "print()\n",
    "\n",
    "for group in df.group.unique():\n",
    "    conv_rate=df[df.group==group].converted.mean()\n",
    "    GROUP_CONV_RATE[group]=conv_rate\n",
    "\n",
    "    print(f\"Group {group} : {conv_rate:.3f}\")"
   ]
  },
  {
   "cell_type": "markdown",
   "metadata": {},
   "source": [
    "Group B has an observed conversion rate of 12% which is 1.3% more than 10.7%, the observed conversion rate of the control group. A and group C on the other hand have approximately a 0.7% and 0.6% increase in its observed conversion rate as compared to the control group's"
   ]
  },
  {
   "cell_type": "markdown",
   "metadata": {},
   "source": [
    "#### USING PIVOT TABLES"
   ]
  },
  {
   "cell_type": "code",
   "execution_count": 44,
   "metadata": {},
   "outputs": [
    {
     "data": {
      "text/html": [
       "<div>\n",
       "<style scoped>\n",
       "    .dataframe tbody tr th:only-of-type {\n",
       "        vertical-align: middle;\n",
       "    }\n",
       "\n",
       "    .dataframe tbody tr th {\n",
       "        vertical-align: top;\n",
       "    }\n",
       "\n",
       "    .dataframe thead th {\n",
       "        text-align: right;\n",
       "    }\n",
       "</style>\n",
       "<table border=\"1\" class=\"dataframe\">\n",
       "  <thead>\n",
       "    <tr style=\"text-align: right;\">\n",
       "      <th>new_images</th>\n",
       "      <th>0</th>\n",
       "      <th>1</th>\n",
       "    </tr>\n",
       "    <tr>\n",
       "      <th>treatment</th>\n",
       "      <th></th>\n",
       "      <th></th>\n",
       "    </tr>\n",
       "  </thead>\n",
       "  <tbody>\n",
       "    <tr>\n",
       "      <th>0</th>\n",
       "      <td>0.107104</td>\n",
       "      <td>0.112538</td>\n",
       "    </tr>\n",
       "    <tr>\n",
       "      <th>1</th>\n",
       "      <td>0.120047</td>\n",
       "      <td>0.113724</td>\n",
       "    </tr>\n",
       "  </tbody>\n",
       "</table>\n",
       "</div>"
      ],
      "text/plain": [
       "new_images         0         1\n",
       "treatment                     \n",
       "0           0.107104  0.112538\n",
       "1           0.120047  0.113724"
      ]
     },
     "execution_count": 44,
     "metadata": {},
     "output_type": "execute_result"
    }
   ],
   "source": [
    "pd.pivot_table(df, values=\"converted\",\n",
    "                index=['treatment'],\n",
    "                columns=['new_images'],\n",
    "                aggfunc=np.mean)"
   ]
  },
  {
   "cell_type": "markdown",
   "metadata": {},
   "source": [
    "### *2. Measuring success of redesign using Bayesian A/B testing*\n",
    "\n",
    "I will use the Bayesian inference to explain the increase in observed converison rate of groups A,B, and C since it has better explainability as compared to the frequentist appraoch using p-values.\n",
    "\n",
    "We first define a helper fucntion `from_posterior` which helps us to update our \"prior\"\n",
    "since our dataset is quite large to do Bayesian inference on small compute capacity."
   ]
  },
  {
   "cell_type": "code",
   "execution_count": 45,
   "metadata": {},
   "outputs": [],
   "source": [
    "from pymc3.distributions import Interpolated\n",
    "\n",
    "def from_posterior(param, samples):\n",
    "    \"\"\"https://docs.pymc.io/en/v3/pymc-examples/examples/pymc3_howto/updating_priors.html\"\"\"\n",
    "    smin, smax=np.min(samples), np.max(samples)\n",
    "    width=smax-smin\n",
    "    x=np.linspace(smin,smax,100)\n",
    "    y=stats.gaussian_kde(samples)(x)\n",
    "\n",
    "    x=np.concatenate([[x[0]-3 * width], x, [x[-1] + 3 * width]])\n",
    "    y=np.concatenate([[0],y,[0]])\n",
    "\n",
    "    return Interpolated(param, x, y)\n"
   ]
  },
  {
   "cell_type": "markdown",
   "metadata": {},
   "source": [
    " Lets now extract the group `converted` observations which will be used for inference in the next section"
   ]
  },
  {
   "cell_type": "code",
   "execution_count": 46,
   "metadata": {},
   "outputs": [],
   "source": [
    "def prep_group_data(group_name):\n",
    "    return df[df.group==group_name].converted.to_numpy().reshape(-1,1)\n",
    "\n",
    "\n",
    "\n",
    "group_data={\n",
    "    \"A\":prep_group_data('A'),\n",
    "    \"B\":  prep_group_data('B'),\n",
    "    \"C\": prep_group_data('C'),\n",
    "    \"control\": prep_group_data('control')\n",
    "}"
   ]
  },
  {
   "cell_type": "markdown",
   "metadata": {},
   "source": [
    "#### Thinking how our data is generated\n",
    "\n",
    "There are four unknown paramters to infer here -- these are the conversion rates of the groups A,B,C, and control which are probabiliies between 0 and 1. We will label these conversion rates as $p_{A}$,$p_{B}$,$p_{C}$, and $p_{control}$ respectively.\n",
    "\n",
    "Since we dont have any prior belief on these conversion rates, we assume as a starting point that each of these conversion rates is equally likely over all possible values between 0 and 1. That is, for example, our current initial belief is that it is eqaully likely for $p_{A}$ to be 0.13 as it is to be 0.97(random).In Bayesion lingo, this means that we assume a uniform prior over the interval [0,1] for each of thse conversion rates.\n",
    "\n",
    "We then incorporate our observed conversion rate using a Bernoulli distribution conditioned on the prior conversion rates. This is where \"training\" happens if we think of Bayesioan modellinh as training a generic machine learning model.By incorporating obssevation, we are able to update our prior beliefe into a so-called posterior belief. "
   ]
  },
  {
   "cell_type": "code",
   "execution_count": 47,
   "metadata": {},
   "outputs": [],
   "source": [
    "def sample_posterior(data, batch_size=5000):\n",
    "    traces=[]\n",
    "\n",
    "    for i in range(0,len(data),batch_size):\n",
    "        batch_data=data[i:i+batch_size]\n",
    "\n",
    "        model=pm.Model()\n",
    "\n",
    "        with model:\n",
    "            #Prior\n",
    "\n",
    "            if len(traces)==0:\n",
    "                p=pm.Uniform(\"p\",0,1)\n",
    "\n",
    "            else:\n",
    "                p=from_posterior('p',burned_trace['p'])\n",
    "            \n",
    "            #Likelihood\n",
    "            obs=pm.Bernoulli('obs',p,observed=batch_data)\n",
    "            # Inference\n",
    "\n",
    "            trace=pm.sample(11000, step=pm.Metropolis())\n",
    "\n",
    "            burned_trace=trace[1000:]\n",
    "\n",
    "            traces.append(burned_trace)\n",
    "\n",
    "    return traces"
   ]
  },
  {
   "cell_type": "markdown",
   "metadata": {},
   "source": [
    "Using the Metropolis inference engine, we sample the posterior distribution of the conversion rates $p_{A}$,$p_{B}$,$p_{C}$, and $p_{control}$ which in probabilisti programming lingo is called traces"
   ]
  },
  {
   "cell_type": "code",
   "execution_count": 48,
   "metadata": {},
   "outputs": [],
   "source": [
    "import warnings\n",
    "\n",
    "warnings.filterwarnings(\"ignore\")"
   ]
  },
  {
   "cell_type": "code",
   "execution_count": 49,
   "metadata": {},
   "outputs": [],
   "source": [
    "import logging\n"
   ]
  },
  {
   "cell_type": "code",
   "execution_count": 50,
   "metadata": {},
   "outputs": [
    {
     "data": {
      "text/html": [
       "\n",
       "<style>\n",
       "    /* Turns off some styling */\n",
       "    progress {\n",
       "        /* gets rid of default border in Firefox and Opera. */\n",
       "        border: none;\n",
       "        /* Needs to be in here for Safari polyfill so background images work as expected. */\n",
       "        background-size: auto;\n",
       "    }\n",
       "    .progress-bar-interrupted, .progress-bar-interrupted::-webkit-progress-bar {\n",
       "        background: #F44336;\n",
       "    }\n",
       "</style>\n"
      ],
      "text/plain": [
       "<IPython.core.display.HTML object>"
      ]
     },
     "metadata": {},
     "output_type": "display_data"
    },
    {
     "data": {
      "text/html": [
       "\n",
       "    <div>\n",
       "      <progress value='48000' class='' max='48000' style='width:300px; height:20px; vertical-align: middle;'></progress>\n",
       "      100.00% [48000/48000 00:09<00:00 Sampling 4 chains, 0 divergences]\n",
       "    </div>\n",
       "    "
      ],
      "text/plain": [
       "<IPython.core.display.HTML object>"
      ]
     },
     "metadata": {},
     "output_type": "display_data"
    },
    {
     "data": {
      "text/html": [
       "\n",
       "<style>\n",
       "    /* Turns off some styling */\n",
       "    progress {\n",
       "        /* gets rid of default border in Firefox and Opera. */\n",
       "        border: none;\n",
       "        /* Needs to be in here for Safari polyfill so background images work as expected. */\n",
       "        background-size: auto;\n",
       "    }\n",
       "    .progress-bar-interrupted, .progress-bar-interrupted::-webkit-progress-bar {\n",
       "        background: #F44336;\n",
       "    }\n",
       "</style>\n"
      ],
      "text/plain": [
       "<IPython.core.display.HTML object>"
      ]
     },
     "metadata": {},
     "output_type": "display_data"
    },
    {
     "data": {
      "text/html": [
       "\n",
       "    <div>\n",
       "      <progress value='48000' class='' max='48000' style='width:300px; height:20px; vertical-align: middle;'></progress>\n",
       "      100.00% [48000/48000 00:10<00:00 Sampling 4 chains, 0 divergences]\n",
       "    </div>\n",
       "    "
      ],
      "text/plain": [
       "<IPython.core.display.HTML object>"
      ]
     },
     "metadata": {},
     "output_type": "display_data"
    },
    {
     "data": {
      "text/html": [
       "\n",
       "<style>\n",
       "    /* Turns off some styling */\n",
       "    progress {\n",
       "        /* gets rid of default border in Firefox and Opera. */\n",
       "        border: none;\n",
       "        /* Needs to be in here for Safari polyfill so background images work as expected. */\n",
       "        background-size: auto;\n",
       "    }\n",
       "    .progress-bar-interrupted, .progress-bar-interrupted::-webkit-progress-bar {\n",
       "        background: #F44336;\n",
       "    }\n",
       "</style>\n"
      ],
      "text/plain": [
       "<IPython.core.display.HTML object>"
      ]
     },
     "metadata": {},
     "output_type": "display_data"
    },
    {
     "data": {
      "text/html": [
       "\n",
       "    <div>\n",
       "      <progress value='48000' class='' max='48000' style='width:300px; height:20px; vertical-align: middle;'></progress>\n",
       "      100.00% [48000/48000 00:09<00:00 Sampling 4 chains, 0 divergences]\n",
       "    </div>\n",
       "    "
      ],
      "text/plain": [
       "<IPython.core.display.HTML object>"
      ]
     },
     "metadata": {},
     "output_type": "display_data"
    },
    {
     "data": {
      "text/html": [
       "\n",
       "<style>\n",
       "    /* Turns off some styling */\n",
       "    progress {\n",
       "        /* gets rid of default border in Firefox and Opera. */\n",
       "        border: none;\n",
       "        /* Needs to be in here for Safari polyfill so background images work as expected. */\n",
       "        background-size: auto;\n",
       "    }\n",
       "    .progress-bar-interrupted, .progress-bar-interrupted::-webkit-progress-bar {\n",
       "        background: #F44336;\n",
       "    }\n",
       "</style>\n"
      ],
      "text/plain": [
       "<IPython.core.display.HTML object>"
      ]
     },
     "metadata": {},
     "output_type": "display_data"
    },
    {
     "data": {
      "text/html": [
       "\n",
       "    <div>\n",
       "      <progress value='48000' class='' max='48000' style='width:300px; height:20px; vertical-align: middle;'></progress>\n",
       "      100.00% [48000/48000 00:09<00:00 Sampling 4 chains, 0 divergences]\n",
       "    </div>\n",
       "    "
      ],
      "text/plain": [
       "<IPython.core.display.HTML object>"
      ]
     },
     "metadata": {},
     "output_type": "display_data"
    },
    {
     "data": {
      "text/html": [
       "\n",
       "<style>\n",
       "    /* Turns off some styling */\n",
       "    progress {\n",
       "        /* gets rid of default border in Firefox and Opera. */\n",
       "        border: none;\n",
       "        /* Needs to be in here for Safari polyfill so background images work as expected. */\n",
       "        background-size: auto;\n",
       "    }\n",
       "    .progress-bar-interrupted, .progress-bar-interrupted::-webkit-progress-bar {\n",
       "        background: #F44336;\n",
       "    }\n",
       "</style>\n"
      ],
      "text/plain": [
       "<IPython.core.display.HTML object>"
      ]
     },
     "metadata": {},
     "output_type": "display_data"
    },
    {
     "data": {
      "text/html": [
       "\n",
       "    <div>\n",
       "      <progress value='48000' class='' max='48000' style='width:300px; height:20px; vertical-align: middle;'></progress>\n",
       "      100.00% [48000/48000 00:09<00:00 Sampling 4 chains, 0 divergences]\n",
       "    </div>\n",
       "    "
      ],
      "text/plain": [
       "<IPython.core.display.HTML object>"
      ]
     },
     "metadata": {},
     "output_type": "display_data"
    },
    {
     "data": {
      "text/html": [
       "\n",
       "<style>\n",
       "    /* Turns off some styling */\n",
       "    progress {\n",
       "        /* gets rid of default border in Firefox and Opera. */\n",
       "        border: none;\n",
       "        /* Needs to be in here for Safari polyfill so background images work as expected. */\n",
       "        background-size: auto;\n",
       "    }\n",
       "    .progress-bar-interrupted, .progress-bar-interrupted::-webkit-progress-bar {\n",
       "        background: #F44336;\n",
       "    }\n",
       "</style>\n"
      ],
      "text/plain": [
       "<IPython.core.display.HTML object>"
      ]
     },
     "metadata": {},
     "output_type": "display_data"
    },
    {
     "data": {
      "text/html": [
       "\n",
       "    <div>\n",
       "      <progress value='48000' class='' max='48000' style='width:300px; height:20px; vertical-align: middle;'></progress>\n",
       "      100.00% [48000/48000 00:08<00:00 Sampling 4 chains, 0 divergences]\n",
       "    </div>\n",
       "    "
      ],
      "text/plain": [
       "<IPython.core.display.HTML object>"
      ]
     },
     "metadata": {},
     "output_type": "display_data"
    },
    {
     "data": {
      "text/html": [
       "\n",
       "<style>\n",
       "    /* Turns off some styling */\n",
       "    progress {\n",
       "        /* gets rid of default border in Firefox and Opera. */\n",
       "        border: none;\n",
       "        /* Needs to be in here for Safari polyfill so background images work as expected. */\n",
       "        background-size: auto;\n",
       "    }\n",
       "    .progress-bar-interrupted, .progress-bar-interrupted::-webkit-progress-bar {\n",
       "        background: #F44336;\n",
       "    }\n",
       "</style>\n"
      ],
      "text/plain": [
       "<IPython.core.display.HTML object>"
      ]
     },
     "metadata": {},
     "output_type": "display_data"
    },
    {
     "data": {
      "text/html": [
       "\n",
       "    <div>\n",
       "      <progress value='48000' class='' max='48000' style='width:300px; height:20px; vertical-align: middle;'></progress>\n",
       "      100.00% [48000/48000 00:08<00:00 Sampling 4 chains, 0 divergences]\n",
       "    </div>\n",
       "    "
      ],
      "text/plain": [
       "<IPython.core.display.HTML object>"
      ]
     },
     "metadata": {},
     "output_type": "display_data"
    },
    {
     "data": {
      "text/html": [
       "\n",
       "<style>\n",
       "    /* Turns off some styling */\n",
       "    progress {\n",
       "        /* gets rid of default border in Firefox and Opera. */\n",
       "        border: none;\n",
       "        /* Needs to be in here for Safari polyfill so background images work as expected. */\n",
       "        background-size: auto;\n",
       "    }\n",
       "    .progress-bar-interrupted, .progress-bar-interrupted::-webkit-progress-bar {\n",
       "        background: #F44336;\n",
       "    }\n",
       "</style>\n"
      ],
      "text/plain": [
       "<IPython.core.display.HTML object>"
      ]
     },
     "metadata": {},
     "output_type": "display_data"
    },
    {
     "data": {
      "text/html": [
       "\n",
       "    <div>\n",
       "      <progress value='48000' class='' max='48000' style='width:300px; height:20px; vertical-align: middle;'></progress>\n",
       "      100.00% [48000/48000 00:09<00:00 Sampling 4 chains, 0 divergences]\n",
       "    </div>\n",
       "    "
      ],
      "text/plain": [
       "<IPython.core.display.HTML object>"
      ]
     },
     "metadata": {},
     "output_type": "display_data"
    },
    {
     "data": {
      "text/html": [
       "\n",
       "<style>\n",
       "    /* Turns off some styling */\n",
       "    progress {\n",
       "        /* gets rid of default border in Firefox and Opera. */\n",
       "        border: none;\n",
       "        /* Needs to be in here for Safari polyfill so background images work as expected. */\n",
       "        background-size: auto;\n",
       "    }\n",
       "    .progress-bar-interrupted, .progress-bar-interrupted::-webkit-progress-bar {\n",
       "        background: #F44336;\n",
       "    }\n",
       "</style>\n"
      ],
      "text/plain": [
       "<IPython.core.display.HTML object>"
      ]
     },
     "metadata": {},
     "output_type": "display_data"
    },
    {
     "data": {
      "text/html": [
       "\n",
       "    <div>\n",
       "      <progress value='48000' class='' max='48000' style='width:300px; height:20px; vertical-align: middle;'></progress>\n",
       "      100.00% [48000/48000 00:09<00:00 Sampling 4 chains, 0 divergences]\n",
       "    </div>\n",
       "    "
      ],
      "text/plain": [
       "<IPython.core.display.HTML object>"
      ]
     },
     "metadata": {},
     "output_type": "display_data"
    },
    {
     "data": {
      "text/html": [
       "\n",
       "<style>\n",
       "    /* Turns off some styling */\n",
       "    progress {\n",
       "        /* gets rid of default border in Firefox and Opera. */\n",
       "        border: none;\n",
       "        /* Needs to be in here for Safari polyfill so background images work as expected. */\n",
       "        background-size: auto;\n",
       "    }\n",
       "    .progress-bar-interrupted, .progress-bar-interrupted::-webkit-progress-bar {\n",
       "        background: #F44336;\n",
       "    }\n",
       "</style>\n"
      ],
      "text/plain": [
       "<IPython.core.display.HTML object>"
      ]
     },
     "metadata": {},
     "output_type": "display_data"
    },
    {
     "data": {
      "text/html": [
       "\n",
       "    <div>\n",
       "      <progress value='48000' class='' max='48000' style='width:300px; height:20px; vertical-align: middle;'></progress>\n",
       "      100.00% [48000/48000 00:12<00:00 Sampling 4 chains, 0 divergences]\n",
       "    </div>\n",
       "    "
      ],
      "text/plain": [
       "<IPython.core.display.HTML object>"
      ]
     },
     "metadata": {},
     "output_type": "display_data"
    },
    {
     "data": {
      "text/html": [
       "\n",
       "<style>\n",
       "    /* Turns off some styling */\n",
       "    progress {\n",
       "        /* gets rid of default border in Firefox and Opera. */\n",
       "        border: none;\n",
       "        /* Needs to be in here for Safari polyfill so background images work as expected. */\n",
       "        background-size: auto;\n",
       "    }\n",
       "    .progress-bar-interrupted, .progress-bar-interrupted::-webkit-progress-bar {\n",
       "        background: #F44336;\n",
       "    }\n",
       "</style>\n"
      ],
      "text/plain": [
       "<IPython.core.display.HTML object>"
      ]
     },
     "metadata": {},
     "output_type": "display_data"
    },
    {
     "data": {
      "text/html": [
       "\n",
       "    <div>\n",
       "      <progress value='48000' class='' max='48000' style='width:300px; height:20px; vertical-align: middle;'></progress>\n",
       "      100.00% [48000/48000 00:09<00:00 Sampling 4 chains, 0 divergences]\n",
       "    </div>\n",
       "    "
      ],
      "text/plain": [
       "<IPython.core.display.HTML object>"
      ]
     },
     "metadata": {},
     "output_type": "display_data"
    },
    {
     "data": {
      "text/html": [
       "\n",
       "<style>\n",
       "    /* Turns off some styling */\n",
       "    progress {\n",
       "        /* gets rid of default border in Firefox and Opera. */\n",
       "        border: none;\n",
       "        /* Needs to be in here for Safari polyfill so background images work as expected. */\n",
       "        background-size: auto;\n",
       "    }\n",
       "    .progress-bar-interrupted, .progress-bar-interrupted::-webkit-progress-bar {\n",
       "        background: #F44336;\n",
       "    }\n",
       "</style>\n"
      ],
      "text/plain": [
       "<IPython.core.display.HTML object>"
      ]
     },
     "metadata": {},
     "output_type": "display_data"
    },
    {
     "data": {
      "text/html": [
       "\n",
       "    <div>\n",
       "      <progress value='48000' class='' max='48000' style='width:300px; height:20px; vertical-align: middle;'></progress>\n",
       "      100.00% [48000/48000 00:08<00:00 Sampling 4 chains, 0 divergences]\n",
       "    </div>\n",
       "    "
      ],
      "text/plain": [
       "<IPython.core.display.HTML object>"
      ]
     },
     "metadata": {},
     "output_type": "display_data"
    }
   ],
   "source": [
    "\n",
    "logger=logging.getLogger('pymc3')\n",
    "logger.setLevel(logging.ERROR)\n",
    "\n",
    "traces_A=sample_posterior(group_data['A'])\n",
    "traces_B=sample_posterior(group_data['B'])\n",
    "traces_C=sample_posterior(group_data['C'])\n",
    "traces_control=sample_posterior(group_data['control'])\n"
   ]
  },
  {
   "cell_type": "code",
   "execution_count": 51,
   "metadata": {},
   "outputs": [],
   "source": [
    "def final_samples(trace):\n",
    "    return trace[-1]['p']\n",
    "\n",
    "final_trace={\n",
    "    \"A\": final_samples(traces_A),\n",
    "    \"B\": final_samples(traces_B),\n",
    "    \"C\": final_samples(traces_C),\n",
    "    \"control\": final_samples(traces_control),\n",
    "}"
   ]
  },
  {
   "cell_type": "markdown",
   "metadata": {},
   "source": [
    "We plot the posterior distribution of the four conversion rates we wanted to infer:"
   ]
  },
  {
   "cell_type": "code",
   "execution_count": 52,
   "metadata": {},
   "outputs": [
    {
     "data": {
      "image/png": "[encoded data removed]",
      "text/plain": [
       "<Figure size 720x720 with 4 Axes>"
      ]
     },
     "metadata": {
      "needs_background": "light"
     },
     "output_type": "display_data"
    }
   ],
   "source": [
    "fig, ax=plt.subplots(4, 1, figsize=(10,10))\n",
    "\n",
    "ax[0].set_title('Posterior distributions of converstion rates $p_A$,$p_B$,$p_C$, and $p_{\\mathrm{control}}$')\n",
    "\n",
    "\n",
    "for i, group in enumerate(df.group.unique()):\n",
    "    ax[i].set_xlim(0.08, 0.15)\n",
    "\n",
    "    group_final_trace=final_trace[group]\n",
    "    label='posterior of $p_{\\mathrm{' + f'{group}' + '}}$'\n",
    "\n",
    "    ax[i].hist(group_final_trace,\n",
    "                histtype='stepfilled',\n",
    "                bins=100, alpha=0.85, density=True, \n",
    "                label=label) #       rlororsswdffwfhhhhfdtgetttttttttttttttcolor=BMH_COLORS[i])\n",
    "\n",
    "    ax[i].vlines(group_final_trace.mean(),0 ,150, color='black', linestyle=\"--\", label='mean')\n",
    "    ax[i].legend()\n",
    "\n",
    "\n",
    "plt.show()"
   ]
  },
  {
   "cell_type": "markdown",
   "metadata": {},
   "source": [
    "To see it more clearly, we plot the difference $\\Delta_{A}$(respectively $\\Delta_{B}$, $\\Delta_{C}$) between the posterior of the test group A(respectively B, C) and the posterior of the control group."
   ]
  },
  {
   "cell_type": "code",
   "execution_count": 54,
   "metadata": {},
   "outputs": [
    {
     "data": {
      "image/png": "[encoded data removed]",
      "text/plain": [
       "<Figure size 720x720 with 3 Axes>"
      ]
     },
     "metadata": {
      "needs_background": "light"
     },
     "output_type": "display_data"
    }
   ],
   "source": [
    "fig, ax=plt.subplots(3,1, figsize=(10,10))\n",
    "\n",
    "ax[0].set_title('Posterior distributions of the conversion rate differences $\\Delta_{A}$, $\\Delta_{B}$, $\\Delta_{C}$)')\n",
    "\n",
    "for i, group in enumerate(['A', 'B', 'C']):\n",
    "    ax[i].set_xlim(-0.02,0.04)\n",
    "\n",
    "    group_delta_trace=final_trace[group]-final_trace['control']\n",
    "    label=f'posterior of $\\Delta_{group}$'\n",
    "\n",
    "    ax[i].hist(group_delta_trace,\n",
    "                histtype='stepfilled'\n",
    "              ,bins=100, alpha=0.85, density=True,\n",
    "              label=label,) #color=BMH_COLORS[i])\n",
    "\n",
    "\n",
    "    ax[i].vlines(group_delta_trace.mean(),0,150, color='black', linestyle='--', label='mean')\n",
    "    ax[i].vlines(0,0,150 , color='black', alpha=0.2)\n",
    "\n",
    "    ax[i].legend()\n",
    "\n",
    "\n",
    "plt.show()"
   ]
  },
  {
   "cell_type": "markdown",
   "metadata": {},
   "source": [
    "Based on the posterior distributions of converstions rate difference $\\Delta_{A}$,$\\Delta_{B}$, $\\Delta_{C}$, we observe that most of the distribution lies above 0. This implies that each group A, B and  C is more liekly to have a higher conversion rate that the control group. That is, the corresponding website version of groups A, B and C respectively are all major improvments over the current version. However, it should be obvious that there's a clear winner: group B seems to be most liekly to have a higher conversion rate that the control.\n",
    "\n",
    "The actual probabilities of the group are computed below:"
   ]
  },
  {
   "cell_type": "code",
   "execution_count": 57,
   "metadata": {},
   "outputs": [
    {
     "name": "stdout",
     "output_type": "stream",
     "text": [
      "Probability that user group A has higher conversion rate than control: 0.932\n",
      "Probability that user group B has higher conversion rate than control: 0.991\n",
      "Probability that user group C has higher conversion rate than control: 0.900\n"
     ]
    }
   ],
   "source": [
    "for group in ['A','B','C']:\n",
    "    print(\"Probability that user group {0} has higher conversion rate than control: {1:.3f}\".format(group,((final_trace[group]-final_trace['control'])>0).mean()))"
   ]
  },
  {
   "cell_type": "markdown",
   "metadata": {},
   "source": [
    "#### Conclusion\n",
    "The probabilites agree with our observation and discussion. In fact, we have a more granular observation.\n",
    "\n",
    "Group B with approximately 0.99 probability is the most likly to have a higher conversion rate than the control. Now group A has a probability of 0.93 which is higher than the probability of group C of 0.9 So it is more likely that user group A has a higher conversion rate than the control, as compared to group C. This establishes a hierrachy of website redesign performance as follows:\n",
    "\n",
    "B is best performing, followed by A, and then lastly C."
   ]
  },
  {
   "cell_type": "markdown",
   "metadata": {},
   "source": [
    "### *3. Fresh new landing page, but same good ol' images is the way to go*\n",
    "Recall what the group A, B and C means:\n",
    "\n",
    "* user group A: saw the **new** version of the **landing page**, wuth **new set of images**\n",
    "* user group B: saw the **new** version of the **landing page**, wuth **old set of images**\n",
    "* user group C: saw the **old** version of the **landing page**, wuth **new set of images**\n",
    "* user group control: saw the **new** version of the **landing page**, wuth **new set of images**\n",
    "\n",
    "So our conclsuion from the previous section suggested that there is a hierachy of website redesign performance like so:\n",
    "\n",
    "1. **Best performing:** use the new landing page, but keep the old set of images;\n",
    "2. **Second best:** use both the new landing page and new set of images:\n",
    "3. **Third best:** use the new set of images, but keep the old landing page.\n",
    "\n",
    "And each of them have more than 90% probability of being better than just using the old landing page and old set of images! So we only have a 10% chance of being wrong if we choose any of them, which is quite a small risk already.\n",
    "\n",
    "#### Conclusion\n",
    "But if we need to choose one, just redesign the website using the **new landing page** but maintain the **old set of images**. In this case, we only have a 1% chance of being wrong, a ver tiny risk."
   ]
  }
 ],
 "metadata": {
  "interpreter": {
   "hash": "51c92f6010da85349d1413e7570f4472417dd174e2c96739bedf5f19ba41a5b3"
  },
  "kernelspec": {
   "display_name": "Python 3.9.7 ('base')",
   "language": "python",
   "name": "python3"
  },
  "language_info": {
   "codemirror_mode": {
    "name": "ipython",
    "version": 3
   },
   "file_extension": ".py",
   "mimetype": "text/x-python",
   "name": "python",
   "nbconvert_exporter": "python",
   "pygments_lexer": "ipython3",
   "version": "3.9.7"
  },
  "orig_nbformat": 4
 },
 "nbformat": 4,
 "nbformat_minor": 2
}
